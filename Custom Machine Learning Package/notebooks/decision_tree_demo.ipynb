# Decision Tree Demo: Airbnb Pricing Assistant

import pandas as pd
import numpy as np
from sklearn.model_selection import train_test_split

from airbnb_pricing_package.decision_tree_pricer import DecisionTreePricer
from airbnb_pricing_package.preprocessing import preprocess_data
from airbnb_pricing_package.config import PRICE_THRESHOLDS

# 1. Load dataset
df = pd.read_csv("Aemf1.csv")

# 2. Add target variable: price bracket
def classify_price_bracket(price):
    if price < PRICE_THRESHOLDS["low"]:
        return "low"
    elif price < PRICE_THRESHOLDS["medium"]:
        return "medium"
    else:
        return "high"

df["Price Bracket"] = df["Price"].apply(classify_price_bracket)

# 3. Define features
categorical_cols = ["Room Type", "Superhost", "Day"]
numerical_cols = [
    "Person Capacity", "Bedrooms", "City Center (km)", "Metro Distance (km)",
    "Cleanliness Rating", "Guest Satisfaction", "Attraction Index",
    "Normalised Attraction Index", "Restraunt Index", "Normalised Restraunt Index"
]

# Convert types and clean
df["Superhost"] = df["Superhost"].astype(str)
df["Room Type"] = df["Room Type"].astype(str)
df["Day"] = df["Day"].astype(str)
df["Person Capacity"] = df["Person Capacity"].astype(float)
df = df.dropna(subset=categorical_cols + numerical_cols + ["Price", "Price Bracket"])

# 4. Preprocess the data
X, encoder, scaler = preprocess_data(df, categorical_cols, numerical_cols)
y = df["Price Bracket"].values

# 5. Split into training and testing
X_train, X_test, y_train, y_test = train_test_split(X, y, test_size=0.2, random_state=42)

# 6. Initialize and train the model
tree_model = DecisionTreePricer(max_depth=5)
tree_model.train(X_train, y_train)

# 7. Evaluate performance
accuracy, report = tree_model.evaluate(X_test, y_test)
print(f"Accuracy: {accuracy:.4f}")
print("Classification Report:")
for label, metrics in report.items():
    if isinstance(metrics, dict):
        print(f"{label}: Precision={metrics['precision']:.2f}, Recall={metrics['recall']:.2f}, F1={metrics['f1-score']:.2f}")

# 8. Feature importance 
# Grab feature names
encoded_feature_names = list(encoder.get_feature_names_out(categorical_cols))
all_feature_names = encoded_feature_names + numerical_cols

feature_importances = tree_model.get_feature_importances(feature_names=all_feature_names)
sorted_features = sorted(feature_importances.items(), key=lambda x: x[1], reverse=True)

print("\nTop 10 Feature Importances:")
for feature, importance in sorted_features[:10]:
    print(f"{feature}: {importance:.4f}")

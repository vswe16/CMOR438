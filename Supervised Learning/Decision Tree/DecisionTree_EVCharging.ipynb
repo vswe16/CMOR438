{
 "cells": [
  {
   "cell_type": "markdown",
   "id": "ccf64739",
   "metadata": {},
   "source": [
    "# EV Charging Duration Classification with Decision Trees\n",
    "\n",
    "## Background\n",
    "As electric vehicle (EV) adoption continues to grow globally, understanding charging behavior is critical for optimizing infrastructure, energy consumption, and user experience. This project explores global EV charging session data to classify the duration of a charging session as short, medium, or long using a decision tree classifier. By analyzing session-specific features such as battery capacity, temperature, and energy delivered, we aim to develop a simple, interpretable model that can support real-time decision-making at charging stations.\n",
    "\n",
    "## Data\n",
    "The dataset used is from Kaggle’s Global EV Charging Behavior 2024. It includes 800 charging sessions across various countries, with features such as:\n",
    "- Battery Capacity (kWh)\n",
    "- Energy Delivered (kWh)\n",
    "- Charging Cost ($)\n",
    "- Temperature (°C)\n",
    "- Station Utilization Rate (%)\n",
    "- Charging Duration (mins) (used to generate the target class)\n",
    "\n",
    "A new categorical feature was created:  \n",
    "- Duration Category: Short (≤ 60 mins), Medium (61–120 mins), Long (> 120 mins)\n",
    "\n",
    "## Advantages\n",
    "- Interpretable: Decision trees are easy to understand and visualize, making results explainable to non-technical stakeholders.\n",
    "- No preprocessing of features required: Works natively with both numerical and categorical inputs.\n",
    "- Fast and lightweight: Ideal for real-time systems at charging stations.\n",
    "\n",
    "## Disadvantages\n",
    "- Prone to overfitting: Without pruning or limiting depth, decision trees may capture noise.\n",
    "- Limited generalization: Performance may not match that of more complex ensemble methods (e.g., Random Forests).\n",
    "- No probabilistic output: Unlike logistic regression, predictions are discrete unless explicitly modified.\n",
    "\n",
    "## Function\n",
    "The task in this notebook is to classify electric vehicle (EV) charging sessions into three categories — short, medium, or long — based on session features such as battery capacity, energy delivered, charging cost, ambient temperature, and station utilization rate. The classification is performed using a decision tree model, which is trained on historical session data and evaluated on its ability to accurately predict the duration category of unseen data.\n",
    "\n",
    "This notebook walks through the full pipeline from data loading and feature engineering to model training, evaluation, and visualization.\n"
   ]
  },
  {
   "cell_type": "code",
   "execution_count": null,
   "id": "4d64b685",
   "metadata": {},
   "outputs": [],
   "source": [
    "import pandas as pd\n",
    "import numpy as np\n",
    "import matplotlib.pyplot as plt\n",
    "import seaborn as sns\n",
    "\n",
    "from sklearn.model_selection import train_test_split\n",
    "from sklearn.tree import DecisionTreeClassifier, plot_tree\n",
    "from sklearn.metrics import accuracy_score, classification_report, confusion_matrix\n",
    "\n",
    "import warnings\n",
    "warnings.filterwarnings(\"ignore\")"
   ]
  },
  {
   "cell_type": "code",
   "execution_count": null,
   "id": "5f6e7770",
   "metadata": {},
   "outputs": [],
   "source": [
    "# load csv into a dataframe\n",
    "df = pd.read_csv(\"Global_EV_Charging_Behavior_2024.csv\")\n",
    "df.head()"
   ]
  },
  {
   "cell_type": "code",
   "execution_count": null,
   "id": "99a83995",
   "metadata": {},
   "outputs": [],
   "source": [
    "# check for missing values and get a sense of the data\n",
    "df.info()\n",
    "df.describe()\n",
    "df.isnull().sum()"
   ]
  },
  {
   "cell_type": "code",
   "execution_count": null,
   "id": "b13d5e40",
   "metadata": {},
   "outputs": [],
   "source": [
    "X = df[features]  # input features we want the model to learn from\n",
    "y = df[\"Duration Category\"]  # labels we’re trying to predict"
   ]
  },
  {
   "cell_type": "code",
   "execution_count": null,
   "id": "493bc8b4",
   "metadata": {},
   "outputs": [],
   "source": [
    "X_train, X_test, y_train, y_test = train_test_split(X, y, test_size=0.3, random_state=42)  # split into 70% train, 30% test"
   ]
  },
  {
   "cell_type": "code",
   "execution_count": null,
   "id": "d6bfe9ee",
   "metadata": {},
   "outputs": [],
   "source": [
    "clf = DecisionTreeClassifier(max_depth=5, random_state=42)  # create decision tree with limited depth\n",
    "clf.fit(X_train, y_train)  # train the model on training data\n",
    "y_pred = clf.predict(X_test)  # predict on test set"
   ]
  },
  {
   "cell_type": "code",
   "execution_count": null,
   "id": "4e883308",
   "metadata": {},
   "outputs": [],
   "source": [
    "# fit the decision tree model\n",
    "clf = DecisionTreeClassifier(max_depth=5, random_state=42)\n",
    "clf.fit(X_train, y_train)\n",
    "y_pred = clf.predict(X_test)"
   ]
  },
  {
   "cell_type": "code",
   "execution_count": null,
   "id": "30fca5e0",
   "metadata": {},
   "outputs": [],
   "source": [
    "# see how it did on the test set\n",
    "print(\"Accuracy:\", accuracy_score(y_test, y_pred))\n",
    "print(\"\\nClassification Report:\\n\", classification_report(y_test, y_pred))\n",
    "cm = confusion_matrix(y_test, y_pred)\n",
    "\n",
    "sns.heatmap(cm, annot=True, fmt='d', cmap='Blues', xticklabels=clf.classes_, yticklabels=clf.classes_)\n",
    "plt.xlabel(\"Predicted\")\n",
    "plt.ylabel(\"Actual\")\n",
    "plt.title(\"Confusion Matrix\")\n",
    "plt.show()"
   ]
  },
  {
   "cell_type": "code",
   "execution_count": null,
   "id": "6a689bf5",
   "metadata": {},
   "outputs": [],
   "source": [
    "plt.figure(figsize=(20,10))\n",
    "plot_tree(clf, filled=True, feature_names=features, class_names=clf.classes_)\n",
    "plt.title(\"Decision Tree Visualization\")\n",
    "plt.show()"
   ]
  },
  {
   "cell_type": "markdown",
   "id": "8f710901",
   "metadata": {},
   "source": [
    "## Conclusion:\n",
    "- We built a Decision Tree model to classify charging durations into short, medium, or long.\n",
    "- The classifications are clearly shown in color, with purple being short, green being medium, and the earth tones being long. \n",
    "- Further improvements could include:\n",
    "  - Encoding categorical features (EV Model, City, etc.)\n",
    "  \n"
   ]
  },
  {
   "cell_type": "code",
   "execution_count": null,
   "id": "eaa93a22-e82f-40d4-bac4-cb638377dd77",
   "metadata": {},
   "outputs": [],
   "source": []
  }
 ],
 "metadata": {
  "kernelspec": {
   "display_name": "Python 3 (ipykernel)",
   "language": "python",
   "name": "python3"
  },
  "language_info": {
   "codemirror_mode": {
    "name": "ipython",
    "version": 3
   },
   "file_extension": ".py",
   "mimetype": "text/x-python",
   "name": "python",
   "nbconvert_exporter": "python",
   "pygments_lexer": "ipython3",
   "version": "3.11.3"
  }
 },
 "nbformat": 4,
 "nbformat_minor": 5
}
